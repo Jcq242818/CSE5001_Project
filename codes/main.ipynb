{
 "cells": [
  {
   "cell_type": "markdown",
   "metadata": {},
   "source": [
    "## Part 1.MNIST数据集的定义及载入"
   ]
  },
  {
   "cell_type": "code",
   "execution_count": 2,
   "metadata": {},
   "outputs": [],
   "source": [
    "import os\n",
    "import torch\n",
    "import numpy as np\n",
    "from matplotlib import pyplot as plt\n",
    "import torchvision.transforms as transforms\n",
    "from torch.utils.data import Dataset\n",
    "from torch.utils.data import DataLoader\n",
    "import torch.nn.functional as nf\n",
    "from torch.utils.tensorboard import SummaryWriter\n",
    "\n",
    "\n",
    "train_dir = '../processed_data/train/'\n",
    "val_dir = '../processed_data/val/'\n",
    "test_dir = '../processed_data/test/'\n",
    "# 对数据进行归一化\n",
    "transform = transforms.Compose([transforms.Normalize((0.1307,), (0.3081,))])\n",
    "\n",
    "class MNIST_Dataset(Dataset):\n",
    "    def __init__(self, root_dir,setname,transform = None):\n",
    "        self.setname = setname\n",
    "        self.root_dir = root_dir\n",
    "        self.subfolders = sorted(os.listdir(root_dir))\n",
    "        self.data = []\n",
    "        self.labels = []\n",
    "        self.transform = transform\n",
    "        if (self.setname=='train') or (self.setname=='val'):\n",
    "            for label, subfolder in enumerate(self.subfolders):\n",
    "                folder_path = os.path.join(root_dir, subfolder)\n",
    "                file_list = sorted(os.listdir(folder_path))\n",
    "\n",
    "                for file_name in file_list:\n",
    "                    file_path = os.path.join(folder_path, file_name)\n",
    "                    data = torch.from_numpy(np.load(file_path))\n",
    "                    self.data.append(data)\n",
    "                    self.labels.append(label)\n",
    "        else: #测试集数据\n",
    "            file_list = sorted(os.listdir(root_dir))\n",
    "            for file_name in file_list:\n",
    "                file_path = os.path.join(root_dir, file_name)\n",
    "                data = torch.from_numpy(np.load(file_path))\n",
    "                self.data.append(data)\n",
    "                # self.labels.append(label) 测试数据无标签\n",
    "\n",
    "    def __len__(self):\n",
    "        return len(self.data)\n",
    "\n",
    "    def __getitem__(self, idx):\n",
    "        if (self.setname=='train') or (self.setname=='val'):\n",
    "            data_pair = {\n",
    "                'data': self.data[idx],\n",
    "                'label': self.labels[idx]\n",
    "            }\n",
    "            if self.transform:\n",
    "                data_pair['data'] = self.transform(data_pair['data'])\n",
    "        else:\n",
    "            data_pair = {\n",
    "                'data': self.data[idx]\n",
    "            }\n",
    "            if self.transform:\n",
    "                data_pair['data'] = self.transform(data_pair['data'])\n",
    "        return data_pair\n",
    "\n",
    "train_dataset = MNIST_Dataset(train_dir,\"train\", transform = transform)\n",
    "val_dataset = MNIST_Dataset(val_dir,\"val\", transform = transform)\n",
    "test_dataset = MNIST_Dataset(test_dir,\"test\", transform = transform)\n",
    "#分别创建两个DataLoader载入训练集与测试集的数据\n",
    "# 注意batch-size表示每批样本的大小，一次训练迭代一个batch.因此len(data_train_loader)表示mini-batch的数目\n",
    "#batch_idx表示batch批的数目下标\n",
    "data_train_loader = DataLoader(train_dataset, batch_size=1024 ,shuffle = True, num_workers=0,drop_last = False)  # 训练集的数据被随机打乱\n",
    "data_val_loader = DataLoader(val_dataset, batch_size=10 ,shuffle = False, num_workers=0,drop_last = False)  # 训练集的数据被随机打乱\n",
    "data_test_loader = DataLoader(test_dataset, batch_size=256 ,shuffle = False, num_workers=0,drop_last = False)  # 训练集的数据被随机打乱\n",
    "num_data_val = len(val_dataset)\n",
    "num_batch_val = np.ceil(num_data_val / data_val_loader.batch_size)\n",
    "# print(num_batch_val)\n",
    "# print(len(train_dataset))\n",
    "# print(len(val_dataset))"
   ]
  },
  {
   "cell_type": "markdown",
   "metadata": {},
   "source": [
    "## Part2.构建CNN模型"
   ]
  },
  {
   "cell_type": "code",
   "execution_count": 3,
   "metadata": {},
   "outputs": [],
   "source": [
    "class Net(torch.nn.Module):\n",
    "    def __init__(self):\n",
    "        super(Net, self).__init__()\n",
    "        self.conv1 = torch.nn.Sequential(\n",
    "            torch.nn.Conv2d(10, 50, kernel_size=5),\n",
    "            torch.nn.ReLU(),\n",
    "            torch.nn.MaxPool2d(kernel_size=2),\n",
    "        )\n",
    "        self.conv2 = torch.nn.Sequential(\n",
    "            torch.nn.Conv2d(50, 100, kernel_size=5),\n",
    "            torch.nn.ReLU(),\n",
    "            torch.nn.MaxPool2d(kernel_size=2),\n",
    "        )\n",
    "        self.fc = torch.nn.Sequential(\n",
    "            torch.nn.Linear(1600, 200),\n",
    "            torch.nn.Linear(200, 20),\n",
    "            torch.nn.Linear(20, 10),\n",
    "        )\n",
    "\n",
    "    def forward(self, x):\n",
    "        # print(x.shape)\n",
    "        batch_size = x.size(0)\n",
    "        x = self.conv1(x)  \n",
    "        x = self.conv2(x) \n",
    "        # print(x.shape)\n",
    "        x = x.view(batch_size, -1)  # flatten 变成全连接网络需要的输入 (batch, 20,4,4) ==> (batch,320), -1 此处自动算出的是320\n",
    "        # print(x.shape)\n",
    "        x = self.fc(x)\n",
    "        return x  # 最后输出的是维度为10的，也就是（对应数学符号的0~9）\n",
    "\n",
    "model = Net() # 实例化模型"
   ]
  },
  {
   "cell_type": "markdown",
   "metadata": {},
   "source": [
    "## Part4. 确定训练时需要的优化器和损失函数"
   ]
  },
  {
   "cell_type": "code",
   "execution_count": 4,
   "metadata": {},
   "outputs": [
    {
     "name": "stderr",
     "output_type": "stream",
     "text": [
      "c:\\Users\\Administrator\\AppData\\Local\\Programs\\Python\\Python39\\lib\\site-packages\\scipy\\__init__.py:146: UserWarning: A NumPy version >=1.16.5 and <1.23.0 is required for this version of SciPy (detected version 1.24.3\n",
      "  warnings.warn(f\"A NumPy version >={np_minversion} and <{np_maxversion}\"\n"
     ]
    }
   ],
   "source": [
    "model.train()  # 切换模型到训练状态\n",
    "learning_rate = 0.01\n",
    "momentum = 0.9\n",
    "optimizer = torch.optim.SGD(model.parameters(), lr=learning_rate, momentum=momentum, weight_decay = 5e-4)  # lr学习率，momentum冲量\n",
    "scheduler = torch.optim.lr_scheduler.StepLR(optimizer, step_size=6, gamma=0.99, last_epoch=-1)\n",
    "writer = SummaryWriter()"
   ]
  },
  {
   "cell_type": "markdown",
   "metadata": {},
   "source": [
    "## Part5.开始训练"
   ]
  },
  {
   "cell_type": "code",
   "execution_count": 5,
   "metadata": {},
   "outputs": [
    {
     "name": "stdout",
     "output_type": "stream",
     "text": [
      "[epoch: 1, batch_idx: 5]: loss: 0.023 , acc: 9.94 %\n",
      "[epoch: 1, batch_idx: 10]: loss: 0.023 , acc: 13.83 %\n",
      "[epoch: 1, batch_idx: 15]: loss: 0.022 , acc: 32.62 %\n",
      "[epoch: 1, batch_idx: 20]: loss: 0.021 , acc: 50.64 %\n",
      "[epoch: 1, batch_idx: 25]: loss: 0.019 , acc: 64.12 %\n",
      "[epoch: 1, batch_idx: 30]: loss: 0.015 , acc: 83.63 %\n",
      "[epoch: 1, batch_idx: 35]: loss: 0.011 , acc: 88.59 %\n",
      "[epoch: 1, batch_idx: 40]: loss: 0.008 , acc: 90.25 %\n",
      "[epoch: 1, batch_idx: 45]: loss: 0.008 , acc: 89.04 %\n",
      "[epoch: 1, batch_idx: 50]: loss: 0.007 , acc: 90.06 %\n",
      "[epoch: 1, batch_idx: 55]: loss: 0.008 , acc: 89.80 %\n",
      "[batch_index: 0]: Accuracy on val set: 20.0 % \n",
      "[batch_index: 1]: Accuracy on val set: 20.0 % \n",
      "[batch_index: 2]: Accuracy on val set: 0.0 % \n",
      "[batch_index: 3]: Accuracy on val set: 10.0 % \n",
      "[batch_index: 4]: Accuracy on val set: 20.0 % \n",
      "[batch_index: 5]: Accuracy on val set: 10.0 % \n",
      "[batch_index: 6]: Accuracy on val set: 0.0 % \n",
      "[batch_index: 7]: Accuracy on val set: 10.0 % \n",
      "[batch_index: 8]: Accuracy on val set: 30.0 % \n",
      "[batch_index: 9]: Accuracy on val set: 10.0 % \n",
      "Average accuracy on val set: 13.0 % \n",
      "[epoch: 2, batch_idx: 5]: loss: 0.007 , acc: 87.66 %\n",
      "[epoch: 2, batch_idx: 10]: loss: 0.005 , acc: 90.02 %\n",
      "[epoch: 2, batch_idx: 15]: loss: 0.006 , acc: 90.10 %\n",
      "[epoch: 2, batch_idx: 20]: loss: 0.006 , acc: 89.61 %\n",
      "[epoch: 2, batch_idx: 25]: loss: 0.005 , acc: 90.06 %\n",
      "[epoch: 2, batch_idx: 30]: loss: 0.005 , acc: 90.20 %\n",
      "[epoch: 2, batch_idx: 35]: loss: 0.005 , acc: 90.64 %\n",
      "[epoch: 2, batch_idx: 40]: loss: 0.005 , acc: 89.41 %\n",
      "[epoch: 2, batch_idx: 45]: loss: 0.005 , acc: 90.64 %\n",
      "[epoch: 2, batch_idx: 50]: loss: 0.005 , acc: 90.37 %\n",
      "[epoch: 2, batch_idx: 55]: loss: 0.005 , acc: 89.82 %\n",
      "[batch_index: 0]: Accuracy on val set: 20.0 % \n",
      "[batch_index: 1]: Accuracy on val set: 20.0 % \n",
      "[batch_index: 2]: Accuracy on val set: 0.0 % \n",
      "[batch_index: 3]: Accuracy on val set: 10.0 % \n",
      "[batch_index: 4]: Accuracy on val set: 20.0 % \n",
      "[batch_index: 5]: Accuracy on val set: 10.0 % \n",
      "[batch_index: 6]: Accuracy on val set: 0.0 % \n",
      "[batch_index: 7]: Accuracy on val set: 10.0 % \n",
      "[batch_index: 8]: Accuracy on val set: 30.0 % \n",
      "[batch_index: 9]: Accuracy on val set: 10.0 % \n",
      "Average accuracy on val set: 13.0 % \n"
     ]
    }
   ],
   "source": [
    "train_loss = 0.0  # 这整个epoch的loss清零\n",
    "total = 0\n",
    "correct = 0\n",
    "epoch = 50\n",
    "#log to record loss and acc\n",
    "log=np.zeros([epoch,3])#train_loss,val_loss,val_accuracy\n",
    "iter_num = 0\n",
    "for i in range(epoch):\n",
    "    train_loss_list = []\n",
    "    for batch_idx, traindata in enumerate(data_train_loader):\n",
    "        iter_num += 1\n",
    "        optimizer.zero_grad()\n",
    "        # forward + backward + update\n",
    "        data, labels = traindata['data'], traindata['label']\n",
    "        outputs = model.forward(data)\n",
    "        # print(outputs.shape, labels.shape)\n",
    "        loss = nf.cross_entropy(outputs, labels)\n",
    "        writer.add_scalar(\"Loss/train\", loss, iter_num)\n",
    "        loss.backward()\n",
    "        optimizer.step()\n",
    "        # 把运行中的loss累加起来\n",
    "        train_loss_list += [loss.item()]\n",
    "        train_loss += loss.item()\n",
    "        _, predicted = torch.max(outputs.data, dim=1)\n",
    "        _, predicted = outputs.max(1)\n",
    "        total += data.shape[0]\n",
    "        correct += predicted.eq(labels).sum().item()\n",
    "\n",
    "        if batch_idx % 5 == 4:  # 不想要每一次都出loss，浪费时间，选择每5次出一个平均损失,和准确率\n",
    "            print('[epoch: %d, batch_idx: %d]: loss: %.3f , acc: %.2f %%'\n",
    "                    % (i + 1, batch_idx + 1, loss / 100, 100. * correct / total))\n",
    "            writer.add_scalar('train accuracy per 10 batches', 100. * correct / total, iter_num)\n",
    "            loss = 0.0  \n",
    "            correct = 0  \n",
    "            total = 0\n",
    "    scheduler.step()  # 优化并更新学习率\n",
    "    log[epoch-1,0]=np.mean(train_loss_list)\n",
    "    ## 模型验证\n",
    "    correct = 0\n",
    "    total = 0\n",
    "    model.eval() # 切换模型为测试状态(没加drop_out层，因此这句话可以随便注释掉)\n",
    "    val_loss = []\n",
    "    with torch.no_grad():  # 测试集不用算梯度\n",
    "        for batch_idx, valdata in enumerate(data_val_loader):\n",
    "            data, labels = valdata['data'], valdata['label']\n",
    "            outputs = model(data)\n",
    "            _, predicted = torch.max(outputs.data, dim=1)  # dim = 1 列是第0个维度，行是第1个维度，沿着行(第1个维度)去找1.最大值和2.最大值的下标\n",
    "            loss = nf.cross_entropy(outputs, labels)\n",
    "            val_loss.append(loss.item())\n",
    "            total += labels.size(0)  # 张量之间的比较运算\n",
    "            correct_batch = predicted.eq(labels).sum().item()\n",
    "            correct += predicted.eq(labels).sum().item()\n",
    "            acc_batch = correct_batch / labels.size(0)\n",
    "            # print(labels.size(0))\n",
    "            print('[batch_index: %d]: Accuracy on val set: %.1f %% ' % (batch_idx, 100 * acc_batch))  # 求测试的准确率，正确数/总数\n",
    "            predicted_list = predicted.tolist()\n",
    "            targets_list = labels.tolist()\n",
    "            writer.add_scalar('val accuracy per batch', 100 * acc_batch, batch_idx)\n",
    "    acc = correct / total\n",
    "    print('Average accuracy on val set: %.1f %% ' % (100. * acc))  # 求测试的准确率，正确数/总数\n",
    "    log[epoch-1,1]= np.mean(val_loss)\n",
    "    log[epoch-1,2]= acc"
   ]
  },
  {
   "cell_type": "markdown",
   "metadata": {},
   "source": [
    "## Part6.绘制训练与验证时的准确率函数"
   ]
  },
  {
   "cell_type": "code",
   "execution_count": 7,
   "metadata": {},
   "outputs": [
    {
     "name": "stdout",
     "output_type": "stream",
     "text": [
      "[[0.         0.         0.        ]\n",
      " [0.57718974 3.57124863 0.13      ]]\n"
     ]
    },
    {
     "data": {
      "image/png": "[encoded data removed]",
      "text/plain": [
       "<Figure size 500x300 with 1 Axes>"
      ]
     },
     "metadata": {},
     "output_type": "display_data"
    }
   ],
   "source": [
    "#plot the curve of loss and acc\n",
    "print(log)\n",
    "x=np.arange(epoch)\n",
    "x=x+1\n",
    "plt.figure(figsize=(5,3))\n",
    "plt.plot(x,log[:,0],linestyle='-',color='r',label='train loss',linewidth=2)\n",
    "plt.plot(x,log[:,1],linestyle='-',color='b',label='val loss',linewidth=2)\n",
    "plt.plot(x,log[:,2],linestyle='--',color='g',label='val acc',linewidth=2)\n",
    "plt.title('Training loss and accuracy',fontsize=10)\n",
    "plt.xlabel('epoch',fontsize=10)\n",
    "plt.ylabel('value',fontsize=10)\n",
    "plt.legend(fontsize=10)\n",
    "plt.ylim(0,1)\n",
    "plt.grid()\n",
    "plt.show()"
   ]
  },
  {
   "cell_type": "markdown",
   "metadata": {},
   "source": [
    "## Part7.保存模型的状态字典"
   ]
  },
  {
   "cell_type": "code",
   "execution_count": 8,
   "metadata": {},
   "outputs": [],
   "source": [
    "# 等两次完整的迭代进行完毕后，保存训练好的模型及其参数\n",
    "save_info = {  # 保存的信息: 1.迭代步数 2.优化器的状态字典 3.模型的状态字典\n",
    "    \"iter_num\": iter_num, \"optimizer\": optimizer.state_dict(), \"model\": model.state_dict()\n",
    "}\n",
    "save_path = \"../Results/model.pth\"  # 将模型存储的位置在当前根目录的文件夹中\n",
    "torch.save(save_info, save_path)"
   ]
  },
  {
   "cell_type": "markdown",
   "metadata": {},
   "source": [
    "## Part8.模型测试"
   ]
  },
  {
   "cell_type": "code",
   "execution_count": 9,
   "metadata": {},
   "outputs": [],
   "source": [
    "# print(data_test_loader.batch_size)\n",
    "predicted_list = []\n",
    "model.eval() # 切换模型为测试状态(没加drop_out层，因此这句话可以随便注释掉)\n",
    "with torch.no_grad():  # 测试集不用算梯度\n",
    "    for batch_idx, testdata in enumerate(data_test_loader):\n",
    "        data = testdata['data']\n",
    "        outputs = model(data)\n",
    "        _, predicted = torch.max(outputs.data, dim=1)  # dim = 1 列是第0个维度，行是第1个维度，沿着行(第1个维度)去找1.最大值和2.最大值的下标\n",
    "        # print(predicted.shape)\n",
    "        predicted = predicted.tolist()\n",
    "        if batch_idx <= 37:\n",
    "            for i in range(data.size(0)):\n",
    "                predicted_list.append(predicted[i])\n",
    "        else:\n",
    "            for i in range(len(test_dataset) - batch_idx * data_test_loader.batch_size):\n",
    "                predicted_list.append(predicted[i])\n",
    "        writer.add_scalar('test accuracy per batch', 100 * acc_batch, batch_idx)"
   ]
  },
  {
   "cell_type": "markdown",
   "metadata": {},
   "source": [
    "## Part9.将模型测试结果存入.txt和.csv中"
   ]
  },
  {
   "cell_type": "code",
   "execution_count": 10,
   "metadata": {},
   "outputs": [],
   "source": [
    "# 将预测结果写入Predict.txt文件中\n",
    "count = 0\n",
    "with open('../Results/Predict.txt', 'w') as file:\n",
    "    # 遍历列表中的元素并将其写入文件\n",
    "    for item in predicted_list:\n",
    "        file.write(str(count) + '.npy'+ ' ')\n",
    "        file.write(str(item) + '\\n')\n",
    "        count = count + 1\n",
    "# 将预测结果写入Predict.csv文件中\n",
    "with open('../Results/Predict.csv', 'w') as file:\n",
    "    file.write(\"predicted class label\" + '\\n')\n",
    "    # 遍历列表中的元素并将其写入文件\n",
    "    for item in predicted_list:\n",
    "        file.write(str(item) + '\\n')"
   ]
  }
 ],
 "metadata": {
  "kernelspec": {
   "display_name": "Python 3.9.7 64-bit",
   "language": "python",
   "name": "python3"
  },
  "language_info": {
   "codemirror_mode": {
    "name": "ipython",
    "version": 3
   },
   "file_extension": ".py",
   "mimetype": "text/x-python",
   "name": "python",
   "nbconvert_exporter": "python",
   "pygments_lexer": "ipython3",
   "version": "3.9.7"
  },
  "orig_nbformat": 4,
  "vscode": {
   "interpreter": {
    "hash": "6fff98fc3b3d81bd655c2cc48858186e4d9e2db7b515bf1c3221888f12a62f87"
   }
  }
 },
 "nbformat": 4,
 "nbformat_minor": 2
}
